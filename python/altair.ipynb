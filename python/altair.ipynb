{
 "cells": [
  {
   "cell_type": "code",
   "execution_count": 7,
   "metadata": {},
   "outputs": [],
   "source": [
    "import pandas as pd\n",
    "import altair as alt\n",
    "from IPython.display import display, Image\n",
    "\n",
    "csv = pd.read_csv(\"../penglings.csv\").dropna()\n",
    "\n",
    "colors = {\"Adelie\": \"#f8a452\", \"Gentoo\": \"#4ea0a1\", \"Chinstrap\": \"#b056cf\"}\n",
    "\n",
    "\n",
    "alt_chart = (\n",
    "    alt.Chart(csv)\n",
    "    .mark_circle()\n",
    "    .encode(\n",
    "        x=alt.X(\n",
    "            \"flipper_length_mm\",\n",
    "            title=\"Flipper Length (mm)\",\n",
    "            axis=alt.Axis(tickMinStep=10),\n",
    "            scale=alt.Scale(domain=(170, 235)),\n",
    "        ),\n",
    "        y=alt.Y(\n",
    "            \"body_mass_g\",\n",
    "            title=\"Body Mass (g)\",\n",
    "            axis=alt.Axis(tickMinStep=500),\n",
    "            scale=alt.Scale(domain=(2500, 6500)),\n",
    "        ),\n",
    "        color=alt.Color(\n",
    "            \"species:N\",\n",
    "            title=\"Species\",\n",
    "            scale=alt.Scale(domain=list(colors.keys()), range=list(colors.values())),\n",
    "        ),\n",
    "        size=alt.Size(\n",
    "            \"bill_length_mm\",\n",
    "            scale=alt.Scale(\n",
    "                range=[20, 120],\n",
    "                domain=[csv.bill_length_mm.min(), csv.bill_length_mm.max()]\n",
    "            ),\n",
    "        ),\n",
    "    )\n",
    "    .configure_mark(\n",
    "        opacity=0.8,\n",
    "    )\n",
    "    .properties(width=600, height=400)\n",
    ")\n",
    "\n",
    "alt_chart.save(\"altair.html\")"
   ]
  }
 ],
 "metadata": {
  "kernelspec": {
   "display_name": ".venv",
   "language": "python",
   "name": "python3"
  },
  "language_info": {
   "codemirror_mode": {
    "name": "ipython",
    "version": 3
   },
   "file_extension": ".py",
   "mimetype": "text/x-python",
   "name": "python",
   "nbconvert_exporter": "python",
   "pygments_lexer": "ipython3",
   "version": "3.11.6"
  }
 },
 "nbformat": 4,
 "nbformat_minor": 2
}
